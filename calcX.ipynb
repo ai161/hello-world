{
  "nbformat": 4,
  "nbformat_minor": 0,
  "metadata": {
    "colab": {
      "provenance": [],
      "authorship_tag": "ABX9TyMjvT/B13DHOQaqQ+9g2QmA",
      "include_colab_link": true
    },
    "kernelspec": {
      "name": "python3",
      "display_name": "Python 3"
    },
    "language_info": {
      "name": "python"
    }
  },
  "cells": [
    {
      "cell_type": "markdown",
      "metadata": {
        "id": "view-in-github",
        "colab_type": "text"
      },
      "source": [
        "<a href=\"https://colab.research.google.com/github/ai161/hello-world/blob/main/calcX.ipynb\" target=\"_parent\"><img src=\"https://colab.research.google.com/assets/colab-badge.svg\" alt=\"Open In Colab\"/></a>"
      ]
    },
    {
      "cell_type": "code",
      "execution_count": null,
      "metadata": {
        "colab": {
          "base_uri": "https://localhost:8080/"
        },
        "id": "fA2NTaer4qQT",
        "outputId": "5bb5b1f4-9e4b-4243-86a6-fe4d43fbb510"
      },
      "outputs": [
        {
          "output_type": "stream",
          "name": "stdout",
          "text": [
            "-16*x - 60\n",
            "[-15/4]\n"
          ]
        }
      ],
      "source": []
    },
    {
      "cell_type": "code",
      "source": [
        "import sympy\n",
        "\n",
        "def calcX(sahen,uhen):\n",
        "  x = sympy.Symbol('x')\n",
        "  y = sympy.Symbol('y')\n",
        "\n",
        "  expr1 = sympy.sympify(sahen)\n",
        "  expr_temp = sympy.sympify(uhen)\n",
        "  expr2 = - (expr_temp)\n",
        "\n",
        "  return sympy.solve(expr1+expr2)\n"
      ],
      "metadata": {
        "id": "TghSRv0V7Sc1"
      },
      "execution_count": null,
      "outputs": []
    },
    {
      "cell_type": "code",
      "source": [
        "def analysisSiki(siki):\n",
        "  siki = siki.replace(' ', '')\n",
        "  siki_kai = siki\n",
        "  num = 0\n",
        "  for i in range(len(siki)):\n",
        "    if i ==0:\n",
        "      if siki[i]=='x' or siki[i]=='(':\n",
        "        siki_kai = '1*'+ siki\n",
        "        num += 2\n",
        "    else:\n",
        "      if siki[i]=='x' or siki[i]=='(':\n",
        "        if  siki[i-1].isdecimal():\n",
        "          siki_kai = siki_kai[:num+1] + '*' +siki_kai[num+1:]\n",
        "          num += 1\n",
        "        else:\n",
        "          siki_kai = siki_kai[:num+1] + '1*' +siki_kai[num+1:]\n",
        "          num += 2\n",
        "\n",
        "      num += 1\n",
        "  return siki_kai"
      ],
      "metadata": {
        "id": "MrN2_vFz8Vap"
      },
      "execution_count": null,
      "outputs": []
    },
    {
      "cell_type": "code",
      "source": [
        "def divUhenSahen(siki):\n",
        "  uhen = siki[:siki.index('=')]\n",
        "  sahen = siki[siki.index('=')+1:]\n",
        "  print(uhen,sahen)\n",
        "  return uhen, sahen"
      ],
      "metadata": {
        "id": "IAcOvhNe_t_P"
      },
      "execution_count": null,
      "outputs": []
    },
    {
      "cell_type": "code",
      "source": [
        "## 計算したいもの\n",
        "siki = \"     x+3+2(x+1)=x-1+(3x-1)       \"\n",
        "s = analysisSiki(siki)\n",
        "uhen,sahen = divUhenSahen(s)\n",
        "print(calcX(uhen,sahen)[0])"
      ],
      "metadata": {
        "colab": {
          "base_uri": "https://localhost:8080/"
        },
        "id": "cvchHbZE7xPO",
        "outputId": "7fd9502b-2237-4f76-e80a-fe1b0ff3267a"
      },
      "execution_count": null,
      "outputs": [
        {
          "output_type": "stream",
          "name": "stdout",
          "text": [
            "1*x+3+2*(1*x+1) 1*x-1+1*(3*x-1)\n",
            "7\n"
          ]
        }
      ]
    },
    {
      "cell_type": "code",
      "source": [
        "keisan = 10/7\n",
        "\n",
        "print(keisan)\n",
        "print(\"aiueo\"[0:1])"
      ],
      "metadata": {
        "id": "HzNKppctAZiJ",
        "colab": {
          "base_uri": "https://localhost:8080/"
        },
        "outputId": "1e3ffbf5-6811-418b-d264-f462e0bf7cc3"
      },
      "execution_count": 102,
      "outputs": [
        {
          "output_type": "stream",
          "name": "stdout",
          "text": [
            "1.4285714285714286\n",
            "a\n"
          ]
        }
      ]
    },
    {
      "cell_type": "code",
      "source": [
        "def calcBun(bun):\n",
        "  bun.replace(' ','')\n",
        "  result = 0\n",
        "  enzanshi = ''\n",
        "  temp = 0\n",
        "  for i in range(len(bun)):\n",
        "    if bun[i] in ['+','-','*']:\n",
        "      if result == 0:\n",
        "        result = Fraction(bun[temp:i])\n",
        "        enzanshi = bun[i]\n",
        "        temp = i + 1\n",
        "      else:\n",
        "        if enzanshi == '+':\n",
        "          result += Fraction(bun[temp:i])\n",
        "          temp = i+1\n",
        "        if enzanshi == '-':\n",
        "          result -= Fraction(bun[temp:i])\n",
        "          temp = i+1\n",
        "        if enzanshi == '*':\n",
        "          result *= Fraction(bun[temp:i])\n",
        "          temp = i+1\n",
        "\n",
        "  if enzanshi == '+':\n",
        "    result += Fraction(bun[temp:len(bun)])\n",
        "  if enzanshi == '-':\n",
        "    result -= Fraction(bun[temp:len(bun)])\n",
        "  if enzanshi == '*':\n",
        "    print\n",
        "    result *= Fraction(bun[temp:len(bun)])\n",
        "\n",
        "  return result"
      ],
      "metadata": {
        "colab": {
          "base_uri": "https://localhost:8080/"
        },
        "id": "gfLT7gNXKU_l",
        "outputId": "52cfb25d-21bf-4a92-9a0a-e3c0324b65ea"
      },
      "execution_count": 108,
      "outputs": [
        {
          "output_type": "stream",
          "name": "stdout",
          "text": [
            "100/3\n"
          ]
        }
      ]
    },
    {
      "cell_type": "code",
      "source": [
        "from fractions import Fraction\n",
        "##分数の計算結果を出す\n",
        "bun = \"     80/12*5       \"\n",
        "print(calcBun(bun)) ##演算子の優先順位は考慮されていない,また（）使用不可\n",
        "\n",
        "## 100 / ( 10 * 9) を計算したいとき\n",
        "bun = \"     10*9/100       \"\n",
        "print(calcBun(bun)**(-1))"
      ],
      "metadata": {
        "colab": {
          "base_uri": "https://localhost:8080/"
        },
        "id": "Qed05qa4JSG7",
        "outputId": "7e680a0b-121d-4481-f715-9c0c82ee7ae6"
      },
      "execution_count": 109,
      "outputs": [
        {
          "output_type": "stream",
          "name": "stdout",
          "text": [
            "100/3\n",
            "10/9\n"
          ]
        }
      ]
    },
    {
      "cell_type": "code",
      "source": [
        "##組み合わせ\n",
        "import math\n",
        "## n!\n",
        "n=5\n",
        "print(math.factorial(n))\n",
        "## nCk\n",
        "n=5\n",
        "k=2\n",
        "print(math.comb(n,k))\n",
        "\n",
        "\n",
        "##n個の中からk個選んで並べる　n! / (n - k)!\n",
        "n=5\n",
        "k=2\n",
        "print(math.perm(n,k))\n"
      ],
      "metadata": {
        "colab": {
          "base_uri": "https://localhost:8080/"
        },
        "id": "psb-07LODVBR",
        "outputId": "a762a7ae-1164-4283-8bb8-6411f46ce0e9"
      },
      "execution_count": 116,
      "outputs": [
        {
          "output_type": "stream",
          "name": "stdout",
          "text": [
            "120\n",
            "10\n",
            "20\n"
          ]
        }
      ]
    },
    {
      "cell_type": "code",
      "source": [],
      "metadata": {
        "id": "6Bx0FLCQOaxm"
      },
      "execution_count": null,
      "outputs": []
    }
  ]
}