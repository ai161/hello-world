{
  "nbformat": 4,
  "nbformat_minor": 0,
  "metadata": {
    "colab": {
      "provenance": [],
      "authorship_tag": "ABX9TyM5Y9MqDpxERbKpJsYzRSja",
      "include_colab_link": true
    },
    "kernelspec": {
      "name": "python3",
      "display_name": "Python 3"
    },
    "language_info": {
      "name": "python"
    }
  },
  "cells": [
    {
      "cell_type": "markdown",
      "metadata": {
        "id": "view-in-github",
        "colab_type": "text"
      },
      "source": [
        "<a href=\"https://colab.research.google.com/github/ai161/hello-world/blob/main/calcX.ipynb\" target=\"_parent\"><img src=\"https://colab.research.google.com/assets/colab-badge.svg\" alt=\"Open In Colab\"/></a>"
      ]
    },
    {
      "cell_type": "code",
      "execution_count": 23,
      "metadata": {
        "colab": {
          "base_uri": "https://localhost:8080/"
        },
        "id": "fA2NTaer4qQT",
        "outputId": "5bb5b1f4-9e4b-4243-86a6-fe4d43fbb510"
      },
      "outputs": [
        {
          "output_type": "stream",
          "name": "stdout",
          "text": [
            "-16*x - 60\n",
            "[-15/4]\n"
          ]
        }
      ],
      "source": []
    },
    {
      "cell_type": "code",
      "source": [
        "import sympy\n",
        "\n",
        "def calcX(sahen,uhen):\n",
        "  x = sympy.Symbol('x')\n",
        "  y = sympy.Symbol('y')\n",
        "\n",
        "  expr1 = sympy.sympify(sahen)\n",
        "  expr_temp = sympy.sympify(uhen)\n",
        "  expr2 = - (expr_temp)\n",
        "\n",
        "  return sympy.solve(expr1+expr2)\n"
      ],
      "metadata": {
        "id": "TghSRv0V7Sc1"
      },
      "execution_count": 62,
      "outputs": []
    },
    {
      "cell_type": "code",
      "source": [
        "def analysisSiki(siki):\n",
        "  siki = siki.replace(' ', '')\n",
        "  siki_kai = siki\n",
        "  num = 0\n",
        "  for i in range(len(siki)):\n",
        "    if i ==0:\n",
        "      if siki[i]=='x' or siki[i]=='(':\n",
        "        siki_kai = '1*'+ siki\n",
        "        num += 2\n",
        "    else:\n",
        "      if siki[i]=='x' or siki[i]=='(':\n",
        "        if  siki[i-1].isdecimal():\n",
        "          siki_kai = siki_kai[:num+1] + '*' +siki_kai[num+1:]\n",
        "          num += 1\n",
        "        else:\n",
        "          siki_kai = siki_kai[:num+1] + '1*' +siki_kai[num+1:]\n",
        "          num += 2\n",
        "\n",
        "      num += 1\n",
        "  return siki_kai"
      ],
      "metadata": {
        "id": "MrN2_vFz8Vap"
      },
      "execution_count": 63,
      "outputs": []
    },
    {
      "cell_type": "code",
      "source": [
        "def divUhenSahen(siki):\n",
        "  uhen = siki[:siki.index('=')]\n",
        "  sahen = siki[siki.index('=')+1:]\n",
        "  return uhen, sahen"
      ],
      "metadata": {
        "id": "IAcOvhNe_t_P"
      },
      "execution_count": 64,
      "outputs": []
    },
    {
      "cell_type": "code",
      "source": [
        "## 計算したいもの\n",
        "siki = \"     x+3+2(x+1)=x-1+(3x-1)       \"\n",
        "s = analysisSiki(siki)\n",
        "uhen,sahen = divUhenSahen(s)\n",
        "print(calcX(uhen,sahen)[0])"
      ],
      "metadata": {
        "colab": {
          "base_uri": "https://localhost:8080/"
        },
        "id": "cvchHbZE7xPO",
        "outputId": "0ebb3b58-5233-45a0-9161-f29e3a0c6899"
      },
      "execution_count": 66,
      "outputs": [
        {
          "output_type": "stream",
          "name": "stdout",
          "text": [
            "7\n"
          ]
        }
      ]
    },
    {
      "cell_type": "code",
      "source": [],
      "metadata": {
        "id": "HzNKppctAZiJ"
      },
      "execution_count": 65,
      "outputs": []
    }
  ]
}